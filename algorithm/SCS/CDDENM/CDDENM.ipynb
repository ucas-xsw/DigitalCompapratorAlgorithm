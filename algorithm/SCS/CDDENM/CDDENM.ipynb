{
 "cells": [
  {
   "cell_type": "code",
   "execution_count": 1,
   "metadata": {},
   "outputs": [],
   "source": [
    "import numpy as np\n",
    "from scipy.optimize import minimize\n",
    "from scipy.optimize import differential_evolution\n",
    "\n",
    "def obj_func(x):\n",
    "    return (x[0] - 1)**2 + (x[1] - 2.5)**2\n",
    "\n",
    "def nm_constrained_minimize(x0, bounds):\n",
    "    cons = ({'type': 'ineq', 'fun': lambda x: bounds[0][0] - x[0]},\n",
    "            {'type': 'ineq', 'fun': lambda x: x[0] - bounds[0][1]},\n",
    "            {'type': 'ineq', 'fun': lambda x: bounds[1][0] - x[1]},\n",
    "            {'type': 'ineq', 'fun': lambda x: x[1] - bounds[1][1]})\n",
    "    res = minimize(obj_func, x0, method='Nelder-Mead', constraints=cons)\n",
    "    return res.x\n",
    "\n",
    "def hybrid_de_nm(bounds, maxiter=100):\n",
    "    popsize = 10\n",
    "    F = 0.8\n",
    "    x0 = np.random.randint(bounds[:, 0], bounds[:, 1], size=(popsize, len(bounds)))\n",
    "    fitness = np.array([obj_func(xi) for xi in x0])\n",
    "    best_idx = np.argmin(fitness)\n",
    "    best = x0[best_idx]\n",
    "    for i in range(maxiter):\n",
    "        for j in range(popsize):\n",
    "            x_nm = nm_constr"
   ]
  },
  {
   "cell_type": "code",
   "execution_count": null,
   "metadata": {},
   "outputs": [],
   "source": []
  },
  {
   "cell_type": "code",
   "execution_count": null,
   "metadata": {},
   "outputs": [],
   "source": []
  }
 ],
 "metadata": {
  "kernelspec": {
   "display_name": "test",
   "language": "python",
   "name": "python3"
  },
  "language_info": {
   "codemirror_mode": {
    "name": "ipython",
    "version": 3
   },
   "file_extension": ".py",
   "mimetype": "text/x-python",
   "name": "python",
   "nbconvert_exporter": "python",
   "pygments_lexer": "ipython3",
   "version": "3.11.3"
  },
  "orig_nbformat": 4
 },
 "nbformat": 4,
 "nbformat_minor": 2
}
